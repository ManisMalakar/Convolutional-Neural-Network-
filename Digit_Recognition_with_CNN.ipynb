{
  "nbformat": 4,
  "nbformat_minor": 0,
  "metadata": {
    "colab": {
      "name": "Digit Recognition with CNN.ipynb",
      "provenance": [],
      "authorship_tag": "ABX9TyPKqrpGhxSqPlDFmR4mpKHx",
      "include_colab_link": true
    },
    "kernelspec": {
      "name": "python3",
      "display_name": "Python 3"
    }
  },
  "cells": [
    {
      "cell_type": "markdown",
      "metadata": {
        "id": "view-in-github",
        "colab_type": "text"
      },
      "source": [
        "<a href=\"https://colab.research.google.com/github/ManisMalakar/Convolutional-Neural-Network-/blob/main/Digit_Recognition_with_CNN.ipynb\" target=\"_parent\"><img src=\"https://colab.research.google.com/assets/colab-badge.svg\" alt=\"Open In Colab\"/></a>"
      ]
    },
    {
      "cell_type": "code",
      "metadata": {
        "id": "Fk4Hx80YW_G1"
      },
      "source": [
        "import tensorflow as tf\n",
        "import pandas as pd\n",
        "import numpy as np\n",
        "import matplotlib.pyplot as plt"
      ],
      "execution_count": 79,
      "outputs": []
    },
    {
      "cell_type": "code",
      "metadata": {
        "id": "Qyp7z0hQXdPS"
      },
      "source": [
        "#Data PreProcessing\n",
        "#Importing the data set\n",
        "from tensorflow.keras.datasets import mnist"
      ],
      "execution_count": 80,
      "outputs": []
    },
    {
      "cell_type": "code",
      "metadata": {
        "id": "pOcnB5UBXn7X"
      },
      "source": [
        "#Loading the dataset\n",
        "(x_train,y_train),(x_test,y_test)=mnist.load_data()"
      ],
      "execution_count": 81,
      "outputs": []
    },
    {
      "cell_type": "code",
      "metadata": {
        "colab": {
          "base_uri": "https://localhost:8080/",
          "height": 282
        },
        "id": "siYN9HgTXv8-",
        "outputId": "8ad93cd2-eff2-4a3d-d348-f109d1685b66"
      },
      "source": [
        "plt.imshow(x_train[0])"
      ],
      "execution_count": 82,
      "outputs": [
        {
          "output_type": "execute_result",
          "data": {
            "text/plain": [
              "<matplotlib.image.AxesImage at 0x7f6e2993a438>"
            ]
          },
          "metadata": {
            "tags": []
          },
          "execution_count": 82
        },
        {
          "output_type": "display_data",
          "data": {
            "image/png": "[encoded data removed]",
            "text/plain": [
              "<Figure size 432x288 with 1 Axes>"
            ]
          },
          "metadata": {
            "tags": [],
            "needs_background": "light"
          }
        }
      ]
    },
    {
      "cell_type": "code",
      "metadata": {
        "colab": {
          "base_uri": "https://localhost:8080/"
        },
        "id": "muQcSbwDXkMN",
        "outputId": "bc7ec416-a3c8-46d7-c7a6-6473665edeef"
      },
      "source": [
        "y_train[0]"
      ],
      "execution_count": 83,
      "outputs": [
        {
          "output_type": "execute_result",
          "data": {
            "text/plain": [
              "5"
            ]
          },
          "metadata": {
            "tags": []
          },
          "execution_count": 83
        }
      ]
    },
    {
      "cell_type": "code",
      "metadata": {
        "colab": {
          "base_uri": "https://localhost:8080/"
        },
        "id": "M9Ev4omhX4pM",
        "outputId": "2bf96003-4a82-4890-8196-7fcd84f9e2db"
      },
      "source": [
        "x_train.shape,y_train.shape"
      ],
      "execution_count": 84,
      "outputs": [
        {
          "output_type": "execute_result",
          "data": {
            "text/plain": [
              "((60000, 28, 28), (60000,))"
            ]
          },
          "metadata": {
            "tags": []
          },
          "execution_count": 84
        }
      ]
    },
    {
      "cell_type": "code",
      "metadata": {
        "colab": {
          "base_uri": "https://localhost:8080/"
        },
        "id": "3NswOKflX7TH",
        "outputId": "4b8f9b7d-db27-4884-8cf0-d546b67ca4f4"
      },
      "source": [
        "y_test.shape,x_test.shape"
      ],
      "execution_count": 85,
      "outputs": [
        {
          "output_type": "execute_result",
          "data": {
            "text/plain": [
              "((10000,), (10000, 28, 28))"
            ]
          },
          "metadata": {
            "tags": []
          },
          "execution_count": 85
        }
      ]
    },
    {
      "cell_type": "code",
      "metadata": {
        "colab": {
          "base_uri": "https://localhost:8080/"
        },
        "id": "8rPkue33X_Gd",
        "outputId": "c6cba3a1-154c-4aeb-b6e9-2382e9ed319b"
      },
      "source": [
        "x_train.min(), x_train.max()"
      ],
      "execution_count": 86,
      "outputs": [
        {
          "output_type": "execute_result",
          "data": {
            "text/plain": [
              "(0, 255)"
            ]
          },
          "metadata": {
            "tags": []
          },
          "execution_count": 86
        }
      ]
    },
    {
      "cell_type": "code",
      "metadata": {
        "colab": {
          "base_uri": "https://localhost:8080/"
        },
        "id": "CGXbhpvkYFNZ",
        "outputId": "b2c405fd-4d3d-433b-f841-f4f3dd8e30a1"
      },
      "source": [
        "y_train.min(), y_train.max()"
      ],
      "execution_count": 87,
      "outputs": [
        {
          "output_type": "execute_result",
          "data": {
            "text/plain": [
              "(0, 9)"
            ]
          },
          "metadata": {
            "tags": []
          },
          "execution_count": 87
        }
      ]
    },
    {
      "cell_type": "code",
      "metadata": {
        "id": "DAjfaEH-YHxH"
      },
      "source": [
        "#Normalizing the images\n",
        "x_train=x_train/255.0\n",
        "x_test=x_test/255.0"
      ],
      "execution_count": 88,
      "outputs": []
    },
    {
      "cell_type": "code",
      "metadata": {
        "id": "VfYWk2Y6YVYG"
      },
      "source": [
        "#Reshaping the images\n",
        "x_train=x_train.reshape(60000,28,28,1)\n",
        "x_test=x_test.reshape(10000,28,28,1)"
      ],
      "execution_count": 89,
      "outputs": []
    },
    {
      "cell_type": "code",
      "metadata": {
        "id": "yd0fVLjgYsVW"
      },
      "source": [
        "input_shape=x_train[0].shape"
      ],
      "execution_count": 90,
      "outputs": []
    },
    {
      "cell_type": "code",
      "metadata": {
        "colab": {
          "base_uri": "https://localhost:8080/"
        },
        "id": "mFVk5tfaYx3L",
        "outputId": "e36a7354-af15-4183-a375-10d44413333e"
      },
      "source": [
        "print(input_shape)"
      ],
      "execution_count": 91,
      "outputs": [
        {
          "output_type": "stream",
          "text": [
            "(28, 28, 1)\n"
          ],
          "name": "stdout"
        }
      ]
    },
    {
      "cell_type": "code",
      "metadata": {
        "id": "pHAyo40GX2h6"
      },
      "source": [
        "#Building the model\n",
        "\n",
        "#Defining the object\n",
        "model=tf.keras.models.Sequential()\n",
        "\n",
        "# Adding first CNN layer\n",
        "model.add(tf.keras.layers.Conv2D(filters=32, kernel_size=(3,3), activation='relu', input_shape = (28,28,1)))\n",
        "\n",
        "# Adding second CNN layer\n",
        "model.add(tf.keras.layers.Conv2D(filters=64, kernel_size=(3,3), activation='relu'))\n",
        "\n",
        "# adding maxpool layer\n",
        "model.add(tf.keras.layers.MaxPool2D(pool_size=(2,2)))\n",
        "\n",
        "# adding dropout layer\n",
        "model.add(tf.keras.layers.Dropout(0.4))\n",
        "\n",
        "# addding flatten layer\n",
        "model.add(tf.keras.layers.Flatten())\n",
        "\n",
        "# fully connected layer (dense layer)\n",
        "model.add(tf.keras.layers.Dense(units=128, activation='relu'))\n",
        "\n",
        "# output layer\n",
        "model.add(tf.keras.layers.Dense(units=10, activation='softmax'))\n"
      ],
      "execution_count": 92,
      "outputs": []
    },
    {
      "cell_type": "code",
      "metadata": {
        "colab": {
          "base_uri": "https://localhost:8080/"
        },
        "id": "h3KI-CQbaZOH",
        "outputId": "317cb103-473f-4478-8b69-3a992952054b"
      },
      "source": [
        "model.summary()"
      ],
      "execution_count": 93,
      "outputs": [
        {
          "output_type": "stream",
          "text": [
            "Model: \"sequential_3\"\n",
            "_________________________________________________________________\n",
            "Layer (type)                 Output Shape              Param #   \n",
            "=================================================================\n",
            "conv2d_6 (Conv2D)            (None, 26, 26, 32)        320       \n",
            "_________________________________________________________________\n",
            "conv2d_7 (Conv2D)            (None, 24, 24, 64)        18496     \n",
            "_________________________________________________________________\n",
            "max_pooling2d_3 (MaxPooling2 (None, 12, 12, 64)        0         \n",
            "_________________________________________________________________\n",
            "dropout_3 (Dropout)          (None, 12, 12, 64)        0         \n",
            "_________________________________________________________________\n",
            "flatten_3 (Flatten)          (None, 9216)              0         \n",
            "_________________________________________________________________\n",
            "dense_6 (Dense)              (None, 128)               1179776   \n",
            "_________________________________________________________________\n",
            "dense_7 (Dense)              (None, 10)                1290      \n",
            "=================================================================\n",
            "Total params: 1,199,882\n",
            "Trainable params: 1,199,882\n",
            "Non-trainable params: 0\n",
            "_________________________________________________________________\n"
          ],
          "name": "stdout"
        }
      ]
    },
    {
      "cell_type": "code",
      "metadata": {
        "id": "-sdOTr8qa3P-"
      },
      "source": [
        "model.compile(optimizer='adam',loss='sparse_categorical_crossentropy',metrics=['sparse_categorical_crossentropy'])"
      ],
      "execution_count": 94,
      "outputs": []
    },
    {
      "cell_type": "code",
      "metadata": {
        "colab": {
          "base_uri": "https://localhost:8080/"
        },
        "id": "ti9-QTbTbObQ",
        "outputId": "468fa270-1a12-431d-ca58-a4711af00de1"
      },
      "source": [
        "history=model.fit(x_train,y_train,batch_size=128,epochs=10, validation_data=(x_test,y_test))"
      ],
      "execution_count": 95,
      "outputs": [
        {
          "output_type": "stream",
          "text": [
            "Epoch 1/10\n",
            "469/469 [==============================] - 143s 304ms/step - loss: 0.3607 - sparse_categorical_crossentropy: 0.3607 - val_loss: 0.0510 - val_sparse_categorical_crossentropy: 0.0510\n",
            "Epoch 2/10\n",
            "469/469 [==============================] - 143s 305ms/step - loss: 0.0522 - sparse_categorical_crossentropy: 0.0522 - val_loss: 0.0384 - val_sparse_categorical_crossentropy: 0.0384\n",
            "Epoch 3/10\n",
            "469/469 [==============================] - 142s 302ms/step - loss: 0.0335 - sparse_categorical_crossentropy: 0.0335 - val_loss: 0.0304 - val_sparse_categorical_crossentropy: 0.0304\n",
            "Epoch 4/10\n",
            "469/469 [==============================] - 143s 304ms/step - loss: 0.0255 - sparse_categorical_crossentropy: 0.0255 - val_loss: 0.0274 - val_sparse_categorical_crossentropy: 0.0274\n",
            "Epoch 5/10\n",
            "469/469 [==============================] - 142s 303ms/step - loss: 0.0189 - sparse_categorical_crossentropy: 0.0189 - val_loss: 0.0317 - val_sparse_categorical_crossentropy: 0.0317\n",
            "Epoch 6/10\n",
            "469/469 [==============================] - 142s 304ms/step - loss: 0.0170 - sparse_categorical_crossentropy: 0.0170 - val_loss: 0.0264 - val_sparse_categorical_crossentropy: 0.0264\n",
            "Epoch 7/10\n",
            "469/469 [==============================] - 142s 302ms/step - loss: 0.0126 - sparse_categorical_crossentropy: 0.0126 - val_loss: 0.0342 - val_sparse_categorical_crossentropy: 0.0342\n",
            "Epoch 8/10\n",
            "469/469 [==============================] - 142s 303ms/step - loss: 0.0116 - sparse_categorical_crossentropy: 0.0116 - val_loss: 0.0321 - val_sparse_categorical_crossentropy: 0.0321\n",
            "Epoch 9/10\n",
            "469/469 [==============================] - 143s 305ms/step - loss: 0.0088 - sparse_categorical_crossentropy: 0.0088 - val_loss: 0.0357 - val_sparse_categorical_crossentropy: 0.0357\n",
            "Epoch 10/10\n",
            "469/469 [==============================] - 143s 306ms/step - loss: 0.0089 - sparse_categorical_crossentropy: 0.0089 - val_loss: 0.0292 - val_sparse_categorical_crossentropy: 0.0292\n"
          ],
          "name": "stdout"
        }
      ]
    },
    {
      "cell_type": "code",
      "metadata": {
        "colab": {
          "base_uri": "https://localhost:8080/"
        },
        "id": "XM4iEBoobL_w",
        "outputId": "61f1cda1-2970-4029-aee5-268788cee39f"
      },
      "source": [
        "#Model Prediction\n",
        "y_pred=model.predict_classes(x_test)"
      ],
      "execution_count": 96,
      "outputs": [
        {
          "output_type": "stream",
          "text": [
            "/usr/local/lib/python3.6/dist-packages/tensorflow/python/keras/engine/sequential.py:450: UserWarning: `model.predict_classes()` is deprecated and will be removed after 2021-01-01. Please use instead:* `np.argmax(model.predict(x), axis=-1)`,   if your model does multi-class classification   (e.g. if it uses a `softmax` last-layer activation).* `(model.predict(x) > 0.5).astype(\"int32\")`,   if your model does binary classification   (e.g. if it uses a `sigmoid` last-layer activation).\n",
            "  warnings.warn('`model.predict_classes()` is deprecated and '\n"
          ],
          "name": "stderr"
        }
      ]
    },
    {
      "cell_type": "code",
      "metadata": {
        "colab": {
          "base_uri": "https://localhost:8080/"
        },
        "id": "VipaRsxWiuOE",
        "outputId": "741ef110-15bd-48cd-87d1-1cc082875b9b"
      },
      "source": [
        "y_pred[15],y_test[15]"
      ],
      "execution_count": 97,
      "outputs": [
        {
          "output_type": "execute_result",
          "data": {
            "text/plain": [
              "(5, 5)"
            ]
          },
          "metadata": {
            "tags": []
          },
          "execution_count": 97
        }
      ]
    },
    {
      "cell_type": "code",
      "metadata": {
        "colab": {
          "base_uri": "https://localhost:8080/"
        },
        "id": "KKf0kPbAixRI",
        "outputId": "ba95a731-e040-4eeb-cc0b-99aa14a1cb23"
      },
      "source": [
        "#Confusion Matrix\n",
        "from sklearn.metrics import confusion_matrix, accuracy_score\n",
        "cm=confusion_matrix(y_test,y_pred)\n",
        "print(cm)"
      ],
      "execution_count": 98,
      "outputs": [
        {
          "output_type": "stream",
          "text": [
            "[[ 974    1    0    0    0    0    3    1    1    0]\n",
            " [   0 1130    2    0    0    0    2    0    1    0]\n",
            " [   1    1 1026    0    2    0    0    2    0    0]\n",
            " [   0    0    2 1004    0    3    0    0    1    0]\n",
            " [   0    0    0    0  975    0    1    0    1    5]\n",
            " [   0    0    0    5    0  885    1    0    1    0]\n",
            " [   2    1    0    0    2    1  949    0    3    0]\n",
            " [   0    1    7    0    1    0    0 1012    1    6]\n",
            " [   2    0    2    1    0    0    2    1  964    2]\n",
            " [   0    0    1    0    6    2    0    2    1  997]]\n"
          ],
          "name": "stdout"
        }
      ]
    },
    {
      "cell_type": "code",
      "metadata": {
        "id": "2G1t6Ifhi_Yu"
      },
      "source": [
        "acc_cm=accuracy_score(y_test,y_pred)"
      ],
      "execution_count": 99,
      "outputs": []
    },
    {
      "cell_type": "code",
      "metadata": {
        "colab": {
          "base_uri": "https://localhost:8080/"
        },
        "id": "cA-en7YYjEuD",
        "outputId": "fa50504a-6c24-4891-9e6a-75c8edc513ac"
      },
      "source": [
        "print(acc_cm)"
      ],
      "execution_count": 100,
      "outputs": [
        {
          "output_type": "stream",
          "text": [
            "0.9916\n"
          ],
          "name": "stdout"
        }
      ]
    },
    {
      "cell_type": "code",
      "metadata": {
        "id": "YnXrDfx8jGrT"
      },
      "source": [
        "def learning_curve(history, epoch):\n",
        "\n",
        "  # training vs validation accuracy\n",
        "  epoch_range = range(1, epoch+1)\n",
        "  plt.plot(epoch_range, history.history['sparse_categorical_accuracy'])\n",
        "  plt.plot(epoch_range, history.history['val_sparse_categorical_accuracy'])\n",
        "  plt.title('Model Accuracy')\n",
        "  plt.ylabel('Accuracy')\n",
        "  plt.xlabel('Epoch')\n",
        "  plt.legend(['Train', 'val'], loc='upper left')\n",
        "  plt.show()\n",
        "\n",
        "  # training vs validation loss\n",
        "  plt.plot(epoch_range, history.history['loss'])\n",
        "  plt.plot(epoch_range, history.history['val_loss'])\n",
        "  plt.title('Model Loss')\n",
        "  plt.ylabel('Loss')\n",
        "  plt.xlabel('Epoch')\n",
        "  plt.legend(['Train', 'val'], loc='upper left')\n",
        "  plt.show()"
      ],
      "execution_count": 101,
      "outputs": []
    },
    {
      "cell_type": "code",
      "metadata": {
        "id": "I0xlqo7RjTLy"
      },
      "source": [
        ""
      ],
      "execution_count": null,
      "outputs": []
    },
    {
      "cell_type": "code",
      "metadata": {
        "id": "qphnt_DijQSD"
      },
      "source": [
        ""
      ],
      "execution_count": null,
      "outputs": []
    }
  ]
}