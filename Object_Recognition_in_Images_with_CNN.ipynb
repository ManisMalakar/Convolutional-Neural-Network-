{
  "nbformat": 4,
  "nbformat_minor": 0,
  "metadata": {
    "colab": {
      "name": "Object Recognition in Images with CNN.ipynb",
      "provenance": [],
      "authorship_tag": "ABX9TyMm05mPLRRvTSHZm7RNiZZA",
      "include_colab_link": true
    },
    "kernelspec": {
      "name": "python3",
      "display_name": "Python 3"
    }
  },
  "cells": [
    {
      "cell_type": "markdown",
      "metadata": {
        "id": "view-in-github",
        "colab_type": "text"
      },
      "source": [
        "<a href=\"https://colab.research.google.com/github/ManisMalakar/Convolutional-Neural-Network-/blob/main/Object_Recognition_in_Images_with_CNN.ipynb\" target=\"_parent\"><img src=\"https://colab.research.google.com/assets/colab-badge.svg\" alt=\"Open In Colab\"/></a>"
      ]
    },
    {
      "cell_type": "code",
      "metadata": {
        "id": "cRrcy3OwbYkx"
      },
      "source": [
        "import tensorflow as tf\n",
        "import pandas as pd\n",
        "import matplotlib.pyplot as plt"
      ],
      "execution_count": 71,
      "outputs": []
    },
    {
      "cell_type": "code",
      "metadata": {
        "id": "Rz8GxNviddlY"
      },
      "source": [
        "#Data PreProcessing\n",
        "\n",
        "#Importing the dataset\n",
        "from tensorflow.keras.datasets import cifar10"
      ],
      "execution_count": 72,
      "outputs": []
    },
    {
      "cell_type": "code",
      "metadata": {
        "id": "lfeYKzyLd7TH"
      },
      "source": [
        "#Loading the dataset\n",
        "(x_train, y_train),(x_test,y_test)=cifar10.load_data()"
      ],
      "execution_count": 73,
      "outputs": []
    },
    {
      "cell_type": "code",
      "metadata": {
        "id": "Y03kZJQueDbw"
      },
      "source": [
        "class_names = ['0: airplane', '1: automobile', '2: bird', '3: cat', '4: deer', '5: dog', '6: frog', '7: horse', '8: ship', '9: truck']"
      ],
      "execution_count": 74,
      "outputs": []
    },
    {
      "cell_type": "code",
      "metadata": {
        "id": "1llvzy3iecRS"
      },
      "source": [
        "#Normalizing the images\n",
        "x_train=x_train/255.0\n",
        "x_test=x_test/255.0"
      ],
      "execution_count": 75,
      "outputs": []
    },
    {
      "cell_type": "code",
      "metadata": {
        "colab": {
          "base_uri": "https://localhost:8080/"
        },
        "id": "FXhEnsm-eS8F",
        "outputId": "a40075e5-9aa5-4d3e-fd21-02a1270c4e44"
      },
      "source": [
        "y_train.max(),y_train.min(),y_train.mean()"
      ],
      "execution_count": 76,
      "outputs": [
        {
          "output_type": "execute_result",
          "data": {
            "text/plain": [
              "(9, 0, 4.5)"
            ]
          },
          "metadata": {
            "tags": []
          },
          "execution_count": 76
        }
      ]
    },
    {
      "cell_type": "code",
      "metadata": {
        "colab": {
          "base_uri": "https://localhost:8080/"
        },
        "id": "4R-tHKfKeL3b",
        "outputId": "cee6b445-3c4c-4f35-9ea5-f04d510ac82b"
      },
      "source": [
        "x_train.max(),x_train.min(),x_train.mean()"
      ],
      "execution_count": 77,
      "outputs": [
        {
          "output_type": "execute_result",
          "data": {
            "text/plain": [
              "(1.0, 0.0, 0.4733630004850874)"
            ]
          },
          "metadata": {
            "tags": []
          },
          "execution_count": 77
        }
      ]
    },
    {
      "cell_type": "code",
      "metadata": {
        "id": "x5KY7pxke9gB"
      },
      "source": [
        "#Building the CNN\n",
        "model=tf.keras.models.Sequential()"
      ],
      "execution_count": 78,
      "outputs": []
    },
    {
      "cell_type": "code",
      "metadata": {
        "id": "tcrafgKpfJUp"
      },
      "source": [
        "#Adding the first CNN layer\n",
        "#1. Number of filters or kernels=32\n",
        "#2. Kernel Size=3\n",
        "#3. Padding=Same\n",
        "#4. Activation Function=ReLu\n",
        "#5. Input Shape=(32,32,3)\n",
        "\n",
        "model.add(tf.keras.layers.Conv2D(filters=32,kernel_size=3,padding='same',activation='relu',input_shape=[32,32,3]))"
      ],
      "execution_count": 79,
      "outputs": []
    },
    {
      "cell_type": "code",
      "metadata": {
        "id": "8syIkl_QgLCW"
      },
      "source": [
        "#Adding the second CNN layer\n",
        "#1. Number of filters or kernels=32\n",
        "#2. Kernel Size=3\n",
        "#3. Padding=Same\n",
        "#4. Activation Function=ReLu\n",
        "\n",
        "model.add(tf.keras.layers.Conv2D(filters=32,kernel_size=3,padding='same',activation='relu'))"
      ],
      "execution_count": 80,
      "outputs": []
    },
    {
      "cell_type": "code",
      "metadata": {
        "id": "f2T6VE7pgR2u"
      },
      "source": [
        "#Maxpool Layer Parameters,\n",
        "#1. Pool Size=2\n",
        "#2. Strides=2\n",
        "#3. Padding=Value\n",
        "\n",
        "model.add(tf.keras.layers.MaxPool2D(pool_size=2,strides=2,padding='valid'))"
      ],
      "execution_count": 81,
      "outputs": []
    },
    {
      "cell_type": "code",
      "metadata": {
        "id": "rmdHYu8fgrXK"
      },
      "source": [
        "#Adding the third CNN layer\n",
        "#1. Number of filters or kernels=64\n",
        "#2. Kernel Size=3\n",
        "#3. Padding=Same\n",
        "#4. Activation Function=ReLu\n",
        "\n",
        "model.add(tf.keras.layers.Conv2D(filters=64,kernel_size=3,padding='same',activation='relu'))"
      ],
      "execution_count": 82,
      "outputs": []
    },
    {
      "cell_type": "code",
      "metadata": {
        "id": "3t2n1rPlg6-e"
      },
      "source": [
        "#Adding the fourth CNN layer\n",
        "#1. Number of filters or kernels=64\n",
        "#2. Kernel Size=3\n",
        "#3. Padding=Same\n",
        "#4. Activation Function=ReLu\n",
        "\n",
        "model.add(tf.keras.layers.Conv2D(filters=64,kernel_size=3,padding='same',activation='relu'))"
      ],
      "execution_count": 83,
      "outputs": []
    },
    {
      "cell_type": "code",
      "metadata": {
        "id": "o3U9081FhB2l"
      },
      "source": [
        "# Adding second Maxpool Layer Parameters,\n",
        "#1. Pool Size=2\n",
        "#2. Strides=2\n",
        "#3. Padding=Value\n",
        "\n",
        "model.add(tf.keras.layers.MaxPool2D(pool_size=2,strides=2,padding='valid'))"
      ],
      "execution_count": 84,
      "outputs": []
    },
    {
      "cell_type": "code",
      "metadata": {
        "id": "8jnpEn5RhGW6"
      },
      "source": [
        "# Adding the dropout layer\n",
        "model.add(tf.keras.layers.Dropout(0.4))\n",
        "\n",
        "#Adding the Flattening Technique\n",
        "model.add(tf.keras.layers.Flatten())\n",
        "\n",
        "#Adding the First Dense Layer\n",
        "model.add(tf.keras.layers.Dense(units=128,activation='relu'))"
      ],
      "execution_count": 85,
      "outputs": []
    },
    {
      "cell_type": "code",
      "metadata": {
        "id": "X3PjZKfGhjPo"
      },
      "source": [
        "#Adding the Second Dense Layer- Output Layer\n",
        "model.add(tf.keras.layers.Dense(units=10,activation='softmax'))"
      ],
      "execution_count": 86,
      "outputs": []
    },
    {
      "cell_type": "code",
      "metadata": {
        "id": "CtiT1lS5iLyN"
      },
      "source": [
        "#Training the Model\n",
        "# Compiling the model\n",
        "model.compile(loss='sparse_categorical_crossentropy', optimizer='adam', metrics=['sparse_categorical_accuracy'])\n"
      ],
      "execution_count": 87,
      "outputs": []
    },
    {
      "cell_type": "code",
      "metadata": {
        "colab": {
          "base_uri": "https://localhost:8080/"
        },
        "id": "rVbDmB2fihbM",
        "outputId": "ff403594-fa50-4fbf-d30b-25dc6514bded"
      },
      "source": [
        "model.fit(x_train, y_train, batch_size=10, epochs=10)"
      ],
      "execution_count": 88,
      "outputs": [
        {
          "output_type": "stream",
          "text": [
            "Epoch 1/10\n",
            "5000/5000 [==============================] - 322s 64ms/step - loss: 1.6518 - sparse_categorical_accuracy: 0.3938\n",
            "Epoch 2/10\n",
            "5000/5000 [==============================] - 324s 65ms/step - loss: 1.0387 - sparse_categorical_accuracy: 0.6310\n",
            "Epoch 3/10\n",
            "5000/5000 [==============================] - 321s 64ms/step - loss: 0.8743 - sparse_categorical_accuracy: 0.6875\n",
            "Epoch 4/10\n",
            "5000/5000 [==============================] - 317s 63ms/step - loss: 0.7792 - sparse_categorical_accuracy: 0.7228\n",
            "Epoch 5/10\n",
            "5000/5000 [==============================] - 320s 64ms/step - loss: 0.7118 - sparse_categorical_accuracy: 0.7485\n",
            "Epoch 6/10\n",
            "5000/5000 [==============================] - 318s 64ms/step - loss: 0.6515 - sparse_categorical_accuracy: 0.7699\n",
            "Epoch 7/10\n",
            "5000/5000 [==============================] - 316s 63ms/step - loss: 0.6077 - sparse_categorical_accuracy: 0.7849\n",
            "Epoch 8/10\n",
            "5000/5000 [==============================] - 319s 64ms/step - loss: 0.5769 - sparse_categorical_accuracy: 0.7956\n",
            "Epoch 9/10\n",
            "5000/5000 [==============================] - 318s 64ms/step - loss: 0.5407 - sparse_categorical_accuracy: 0.8099\n",
            "Epoch 10/10\n",
            "5000/5000 [==============================] - 316s 63ms/step - loss: 0.5163 - sparse_categorical_accuracy: 0.8174\n"
          ],
          "name": "stdout"
        },
        {
          "output_type": "execute_result",
          "data": {
            "text/plain": [
              "<tensorflow.python.keras.callbacks.History at 0x7f8cb61325f8>"
            ]
          },
          "metadata": {
            "tags": []
          },
          "execution_count": 88
        }
      ]
    },
    {
      "cell_type": "code",
      "metadata": {
        "colab": {
          "base_uri": "https://localhost:8080/"
        },
        "id": "rnFtgYVYzI92",
        "outputId": "1d96e33a-641e-4a50-90a3-afbf01e8f7ae"
      },
      "source": [
        "#Evaluate the model performance\n",
        "test_loss,test_acc=model.evaluate(x_test,y_test)"
      ],
      "execution_count": 96,
      "outputs": [
        {
          "output_type": "stream",
          "text": [
            "313/313 [==============================] - 14s 43ms/step - loss: 0.7598 - sparse_categorical_accuracy: 0.7452\n"
          ],
          "name": "stdout"
        }
      ]
    },
    {
      "cell_type": "code",
      "metadata": {
        "colab": {
          "base_uri": "https://localhost:8080/"
        },
        "id": "rxlqeTp0zYmq",
        "outputId": "e1256956-8f1e-4015-b290-e25bdfba222c"
      },
      "source": [
        "print('Test Accuracy = {}'.format(test_acc))"
      ],
      "execution_count": 97,
      "outputs": [
        {
          "output_type": "stream",
          "text": [
            "Test Accuracy = 0.745199978351593\n"
          ],
          "name": "stdout"
        }
      ]
    },
    {
      "cell_type": "code",
      "metadata": {
        "colab": {
          "base_uri": "https://localhost:8080/"
        },
        "id": "GSy9RcQczh35",
        "outputId": "eb48f001-7bef-4eea-e6b7-9816c2dc7708"
      },
      "source": [
        "#Predictions\n",
        "y_pred=model.predict_classes(x_test)"
      ],
      "execution_count": 98,
      "outputs": [
        {
          "output_type": "stream",
          "text": [
            "/usr/local/lib/python3.6/dist-packages/tensorflow/python/keras/engine/sequential.py:450: UserWarning: `model.predict_classes()` is deprecated and will be removed after 2021-01-01. Please use instead:* `np.argmax(model.predict(x), axis=-1)`,   if your model does multi-class classification   (e.g. if it uses a `softmax` last-layer activation).* `(model.predict(x) > 0.5).astype(\"int32\")`,   if your model does binary classification   (e.g. if it uses a `sigmoid` last-layer activation).\n",
            "  warnings.warn('`model.predict_classes()` is deprecated and '\n"
          ],
          "name": "stderr"
        }
      ]
    },
    {
      "cell_type": "code",
      "metadata": {
        "colab": {
          "base_uri": "https://localhost:8080/"
        },
        "id": "JU7CTDNRzslZ",
        "outputId": "9487f4b7-1784-4ec2-f468-48e8d2b0eaf4"
      },
      "source": [
        "print(y_pred[120]), print(y_test[120])"
      ],
      "execution_count": 101,
      "outputs": [
        {
          "output_type": "stream",
          "text": [
            "8\n",
            "[8]\n"
          ],
          "name": "stdout"
        },
        {
          "output_type": "execute_result",
          "data": {
            "text/plain": [
              "(None, None)"
            ]
          },
          "metadata": {
            "tags": []
          },
          "execution_count": 101
        }
      ]
    },
    {
      "cell_type": "code",
      "metadata": {
        "colab": {
          "base_uri": "https://localhost:8080/"
        },
        "id": "oQGgdCVNz4Uf",
        "outputId": "9120a772-7129-4fed-ba3d-3e4ab99b039e"
      },
      "source": [
        "#Confusion Matrix\n",
        "from sklearn.metrics import confusion_matrix, accuracy_score\n",
        "cm=confusion_matrix(y_test,y_pred)\n",
        "print(cm)"
      ],
      "execution_count": 104,
      "outputs": [
        {
          "output_type": "stream",
          "text": [
            "[[750  15  48  28  18   1   7  10  71  52]\n",
            " [  5 871   2   5   4   1   3   2  21  86]\n",
            " [ 76   4 605  72  78  50  38  46  18  13]\n",
            " [ 28   5  47 541  56 185  42  50  20  26]\n",
            " [ 23   3  62  60 677  46  33  76  13   7]\n",
            " [  9   2  38 147  32 653  20  82   8   9]\n",
            " [  9   3  44  63  40  34 775  10  10  12]\n",
            " [ 10   5  27  24  44  46   1 819   8  16]\n",
            " [ 37  25   4   7   3   9   4   6 882  23]\n",
            " [ 14  51   4  10   2   4   5   6  25 879]]\n"
          ],
          "name": "stdout"
        }
      ]
    },
    {
      "cell_type": "code",
      "metadata": {
        "colab": {
          "base_uri": "https://localhost:8080/"
        },
        "id": "tP62V8vZ0F7e",
        "outputId": "205136c0-4bc3-4480-fc91-f3afda78000d"
      },
      "source": [
        "acc_cm=accuracy_score(y_test,y_pred)\n",
        "print(acc_cm)"
      ],
      "execution_count": 105,
      "outputs": [
        {
          "output_type": "stream",
          "text": [
            "0.7452\n"
          ],
          "name": "stdout"
        }
      ]
    }
  ]
}